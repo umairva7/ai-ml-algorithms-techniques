{
 "cells": [
  {
   "cell_type": "code",
   "id": "initial_id",
   "metadata": {
    "collapsed": true,
    "ExecuteTime": {
     "end_time": "2025-08-17T09:03:30.182661Z",
     "start_time": "2025-08-17T09:03:28.551804Z"
    }
   },
   "source": [
    "import pandas as pd\n",
    "import statsmodels.api as sm\n",
    "from sklearn.model_selection import train_test_split"
   ],
   "outputs": [],
   "execution_count": 2
  },
  {
   "metadata": {
    "ExecuteTime": {
     "end_time": "2025-08-17T09:03:32.414413Z",
     "start_time": "2025-08-17T09:03:32.363533Z"
    }
   },
   "cell_type": "code",
   "source": [
    "# Sample dataset\n",
    "data = {\n",
    "    'StudyHours': [1, 2, 3, 4, 5, 6, 7, 8, 9, 10],\n",
    "    'PrevExamScore': [30, 40, 45, 50, 60, 65, 70, 75, 80, 85],\n",
    "    'Pass': [0, 0, 0, 0, 0, 1, 1, 1, 1, 1]  # 0 = Fail, 1 = Pass\n",
    "}\n",
    "\n",
    "df = pd.DataFrame(data)\n",
    "\n",
    "# Features and target variable\n",
    "X = df[['StudyHours', 'PrevExamScore']]\n",
    "y = df['Pass']"
   ],
   "id": "39187b51ff74c7bf",
   "outputs": [],
   "execution_count": 3
  },
  {
   "metadata": {
    "ExecuteTime": {
     "end_time": "2025-08-17T09:03:40.404807Z",
     "start_time": "2025-08-17T09:03:40.392813Z"
    }
   },
   "cell_type": "code",
   "source": [
    "# Add a constant to the model (for the intercept)\n",
    "X = sm.add_constant(X)\n"
   ],
   "id": "4e273b921d07c1f5",
   "outputs": [],
   "execution_count": 4
  },
  {
   "metadata": {
    "ExecuteTime": {
     "end_time": "2025-08-17T09:03:55.293966Z",
     "start_time": "2025-08-17T09:03:55.240009Z"
    }
   },
   "cell_type": "code",
   "source": [
    "# Fit the model using Ordinary Least Squares (OLS) regression\n",
    "model = sm.OLS(y, X).fit()\n",
    "\n",
    "# Display the summary, including p-values for each feature\n",
    "print(model.summary())\n",
    "\n",
    "#The goal is to start with all features and then progressively remove the least significant ones. The output will show a summary of the model, including the p-values for each feature. The p-value helps you determine the statistical significance of each feature: features with high p-values are considered less significant and should be removed."
   ],
   "id": "f7f73c45e0a051bb",
   "outputs": [
    {
     "name": "stdout",
     "output_type": "stream",
     "text": [
      "                            OLS Regression Results                            \n",
      "==============================================================================\n",
      "Dep. Variable:                   Pass   R-squared:                       0.758\n",
      "Model:                            OLS   Adj. R-squared:                  0.688\n",
      "Method:                 Least Squares   F-statistic:                     10.94\n",
      "Date:                Sun, 17 Aug 2025   Prob (F-statistic):            0.00701\n",
      "Time:                        14:03:55   Log-Likelihood:               -0.17258\n",
      "No. Observations:                  10   AIC:                             6.345\n",
      "Df Residuals:                       7   BIC:                             7.253\n",
      "Df Model:                           2                                         \n",
      "Covariance Type:            nonrobust                                         \n",
      "=================================================================================\n",
      "                    coef    std err          t      P>|t|      [0.025      0.975]\n",
      "---------------------------------------------------------------------------------\n",
      "const            -0.3333      1.464     -0.228      0.826      -3.796       3.129\n",
      "StudyHours        0.1515      0.324      0.468      0.654      -0.615       0.918\n",
      "PrevExamScore -2.082e-16      0.054  -3.87e-15      1.000      -0.127       0.127\n",
      "==============================================================================\n",
      "Omnibus:                        0.086   Durbin-Watson:                   1.491\n",
      "Prob(Omnibus):                  0.958   Jarque-Bera (JB):                0.311\n",
      "Skew:                           0.000   Prob(JB):                        0.856\n",
      "Kurtosis:                       2.136   Cond. No.                     1.01e+03\n",
      "==============================================================================\n",
      "\n",
      "Notes:\n",
      "[1] Standard Errors assume that the covariance matrix of the errors is correctly specified.\n",
      "[2] The condition number is large, 1.01e+03. This might indicate that there are\n",
      "strong multicollinearity or other numerical problems.\n"
     ]
    },
    {
     "name": "stderr",
     "output_type": "stream",
     "text": [
      "D:\\Microsoft AI ML Certification\\AI and Machine Learning Algorithms and Techniques\\.venv\\lib\\site-packages\\scipy\\stats\\_axis_nan_policy.py:430: UserWarning: `kurtosistest` p-value may be inaccurate with fewer than 20 observations; only n=10 observations were given.\n",
      "  return hypotest_fun_in(*args, **kwds)\n"
     ]
    }
   ],
   "execution_count": 5
  },
  {
   "metadata": {
    "ExecuteTime": {
     "end_time": "2025-08-17T09:04:53.291990Z",
     "start_time": "2025-08-17T09:04:53.244323Z"
    }
   },
   "cell_type": "code",
   "source": [
    "# Define a significance level\n",
    "significance_level = 0.05\n",
    "\n",
    "# Perform backward elimination\n",
    "while True:\n",
    "    # Fit the model\n",
    "    model = sm.OLS(y, X).fit()\n",
    "    # Get the highest p-value in the model\n",
    "    max_p_value = model.pvalues.max()\n",
    "\n",
    "    # Check if the highest p-value is greater than the significance level\n",
    "    if max_p_value > significance_level:\n",
    "        # Identify the feature with the highest p-value\n",
    "        feature_to_remove = model.pvalues.idxmax()\n",
    "        print(f\"Removing feature: {feature_to_remove} with p-value: {max_p_value}\")\n",
    "\n",
    "        # Drop the feature\n",
    "        X = X.drop(columns=[feature_to_remove])\n",
    "    else:\n",
    "        break\n",
    "\n",
    "# Display the final model summary\n",
    "print(model.summary())"
   ],
   "id": "a70b831f2ca57b85",
   "outputs": [
    {
     "name": "stdout",
     "output_type": "stream",
     "text": [
      "Removing feature: PrevExamScore with p-value: 0.999999999999997\n",
      "Removing feature: const with p-value: 0.11419580126842216\n",
      "                                 OLS Regression Results                                \n",
      "=======================================================================================\n",
      "Dep. Variable:                   Pass   R-squared (uncentered):                   0.831\n",
      "Model:                            OLS   Adj. R-squared (uncentered):              0.812\n",
      "Method:                 Least Squares   F-statistic:                              44.31\n",
      "Date:                Sun, 17 Aug 2025   Prob (F-statistic):                    9.31e-05\n",
      "Time:                        14:04:53   Log-Likelihood:                         -1.8294\n",
      "No. Observations:                  10   AIC:                                      5.659\n",
      "Df Residuals:                       9   BIC:                                      5.961\n",
      "Df Model:                           1                                                  \n",
      "Covariance Type:            nonrobust                                                  \n",
      "==============================================================================\n",
      "                 coef    std err          t      P>|t|      [0.025      0.975]\n",
      "------------------------------------------------------------------------------\n",
      "StudyHours     0.1039      0.016      6.656      0.000       0.069       0.139\n",
      "==============================================================================\n",
      "Omnibus:                        0.710   Durbin-Watson:                   1.054\n",
      "Prob(Omnibus):                  0.701   Jarque-Bera (JB):                0.557\n",
      "Skew:                          -0.000   Prob(JB):                        0.757\n",
      "Kurtosis:                       1.844   Cond. No.                         1.00\n",
      "==============================================================================\n",
      "\n",
      "Notes:\n",
      "[1] R² is computed without centering (uncentered) since the model does not contain a constant.\n",
      "[2] Standard Errors assume that the covariance matrix of the errors is correctly specified.\n"
     ]
    },
    {
     "name": "stderr",
     "output_type": "stream",
     "text": [
      "D:\\Microsoft AI ML Certification\\AI and Machine Learning Algorithms and Techniques\\.venv\\lib\\site-packages\\scipy\\stats\\_axis_nan_policy.py:430: UserWarning: `kurtosistest` p-value may be inaccurate with fewer than 20 observations; only n=10 observations were given.\n",
      "  return hypotest_fun_in(*args, **kwds)\n"
     ]
    }
   ],
   "execution_count": 6
  },
  {
   "metadata": {
    "ExecuteTime": {
     "end_time": "2025-08-17T09:11:53.311560Z",
     "start_time": "2025-08-17T09:11:53.177361Z"
    }
   },
   "cell_type": "code",
   "source": [
    "#Forward Selection\n",
    "\n",
    "\n",
    "import pandas as pd\n",
    "from sklearn.linear_model import LinearRegression\n",
    "from sklearn.model_selection import train_test_split\n",
    "from sklearn.metrics import r2_score"
   ],
   "id": "573411113d92b1bf",
   "outputs": [],
   "execution_count": 8
  },
  {
   "metadata": {
    "ExecuteTime": {
     "end_time": "2025-08-17T09:11:56.427884Z",
     "start_time": "2025-08-17T09:11:56.403349Z"
    }
   },
   "cell_type": "code",
   "source": [
    "# Sample dataset: Study hours, previous exam scores, and pass/fail labels\n",
    "data = {\n",
    "    'StudyHours': [1, 2, 3, 4, 5, 6, 7, 8, 9, 10],\n",
    "    'PrevExamScore': [30, 40, 45, 50, 60, 65, 70, 75, 80, 85],\n",
    "    'Pass': [0, 0, 0, 0, 0, 1, 1, 1, 1, 1]  # 0 = Fail, 1 = Pass\n",
    "}\n",
    "\n",
    "df = pd.DataFrame(data)\n",
    "\n",
    "# Features and target variable\n",
    "X = df[['StudyHours', 'PrevExamScore']]\n",
    "y = df['Pass']"
   ],
   "id": "b8fc635d34f7b2b1",
   "outputs": [],
   "execution_count": 9
  },
  {
   "metadata": {
    "ExecuteTime": {
     "end_time": "2025-08-17T09:11:59.684768Z",
     "start_time": "2025-08-17T09:11:59.630702Z"
    }
   },
   "cell_type": "code",
   "source": [
    "def forward_selection(X, y):\n",
    "    remaining_features = set(X.columns)\n",
    "    selected_features = []\n",
    "    current_score = 0.0\n",
    "    best_score = 0.0\n",
    "\n",
    "    while remaining_features:\n",
    "        scores_with_candidates = []\n",
    "\n",
    "        # Loop through remaining features\n",
    "        for feature in remaining_features:\n",
    "            features_to_test = selected_features + [feature]\n",
    "            X_train, X_test, y_train, y_test = train_test_split(X[features_to_test], y, test_size=0.2, random_state=42)\n",
    "\n",
    "            # Train the model\n",
    "            model = LinearRegression()\n",
    "            model.fit(X_train, y_train)\n",
    "\n",
    "            # Make predictions and calculate R-squared\n",
    "            y_pred = model.predict(X_test)\n",
    "            score = r2_score(y_test, y_pred)\n",
    "\n",
    "            # Record the score with the current feature\n",
    "            scores_with_candidates.append((score, feature))\n",
    "\n",
    "        # Sort candidates by score (highest score first)\n",
    "        scores_with_candidates.sort(reverse=True)\n",
    "        best_score, best_feature = scores_with_candidates[0]\n",
    "\n",
    "        # If adding the feature improves the score, add it to the model\n",
    "        if current_score < best_score:\n",
    "            remaining_features.remove(best_feature)\n",
    "            selected_features.append(best_feature)\n",
    "            current_score = best_score\n",
    "        else:\n",
    "            break\n",
    "\n",
    "    return selected_features\n",
    "\n",
    "# Run forward selection\n",
    "best_features = forward_selection(X, y)\n",
    "print(\"Selected features using Forward Selection:\", best_features)"
   ],
   "id": "51c2e2da5034db93",
   "outputs": [
    {
     "name": "stdout",
     "output_type": "stream",
     "text": [
      "Selected features using Forward Selection: ['PrevExamScore']\n"
     ]
    }
   ],
   "execution_count": 10
  },
  {
   "metadata": {},
   "cell_type": "code",
   "outputs": [],
   "execution_count": null,
   "source": [
    "#How forward selection works\n",
    "\n",
    "    #Initialize with no features: The process begins with an empty set of features.\n",
    "\n",
    "    #Evaluate each feature: At each iteration, the model is trained with one additional feature at a time, and the R-squared value is calculated.\n",
    "\n",
    "    #Add the best feature: The feature that provides the highest improvement in R-squared is added to the model.\n",
    "\n",
    "    #Repeat: The process repeats by adding the next best feature until no further improvement can be made.\n",
    "\n",
    "#Metrics used\n",
    "\n",
    "    #R-squared (coefficient of determination): This metric shows how much of the variance in the target variable is explained by the features. The higher the R-squared, the better the model explains the data."
   ],
   "id": "19f4192aa6aec312"
  },
  {
   "metadata": {
    "ExecuteTime": {
     "end_time": "2025-08-17T11:11:13.715943Z",
     "start_time": "2025-08-17T11:11:13.704750Z"
    }
   },
   "cell_type": "code",
   "source": [
    "#Implementing LASSO\n",
    "\n",
    "import pandas as pd\n",
    "from sklearn.linear_model import Lasso\n",
    "from sklearn.model_selection import train_test_split\n",
    "from sklearn.metrics import r2_score"
   ],
   "id": "87716b20632d5fc0",
   "outputs": [],
   "execution_count": 11
  },
  {
   "metadata": {
    "ExecuteTime": {
     "end_time": "2025-08-17T11:11:17.390226Z",
     "start_time": "2025-08-17T11:11:17.376188Z"
    }
   },
   "cell_type": "code",
   "source": [
    "# Sample dataset: Study hours, previous exam scores, and pass/fail labels\n",
    "data = {\n",
    "    'StudyHours': [1, 2, 3, 4, 5, 6, 7, 8, 9, 10],\n",
    "    'PrevExamScore': [30, 40, 45, 50, 60, 65, 70, 75, 80, 85],\n",
    "    'Pass': [0, 0, 0, 0, 0, 1, 1, 1, 1, 1]  # 0 = Fail, 1 = Pass\n",
    "}\n",
    "\n",
    "df = pd.DataFrame(data)\n",
    "\n",
    "# Features and target variable\n",
    "X = df[['StudyHours', 'PrevExamScore']]  # Features\n",
    "y = df['Pass']  # Target variable"
   ],
   "id": "78c4c42220da5fe8",
   "outputs": [],
   "execution_count": 12
  },
  {
   "metadata": {
    "ExecuteTime": {
     "end_time": "2025-08-17T11:11:21.161725Z",
     "start_time": "2025-08-17T11:11:21.150684Z"
    }
   },
   "cell_type": "code",
   "source": [
    "# Split the data into training and testing sets (80% training, 20% testing)\n",
    "X_train, X_test, y_train, y_test = train_test_split(X, y, test_size=0.2, random_state=42)"
   ],
   "id": "c8b125abd2512e57",
   "outputs": [],
   "execution_count": 13
  },
  {
   "metadata": {
    "ExecuteTime": {
     "end_time": "2025-08-17T11:11:24.148469Z",
     "start_time": "2025-08-17T11:11:24.109578Z"
    }
   },
   "cell_type": "code",
   "source": [
    "# Initialize the LASSO model with alpha (regularization parameter)\n",
    "lasso_model = Lasso(alpha=0.1)\n",
    "\n",
    "# Train the model on the training data\n",
    "lasso_model.fit(X_train, y_train)\n",
    "\n",
    "# Make predictions on the test data\n",
    "y_pred = lasso_model.predict(X_test)\n",
    "\n",
    "# Evaluate the model's performance using R-squared\n",
    "r2 = r2_score(y_test, y_pred)\n",
    "print(f'R-squared score: {r2}')"
   ],
   "id": "ca8c8cac6fd7a424",
   "outputs": [
    {
     "name": "stdout",
     "output_type": "stream",
     "text": [
      "R-squared score: 0.9997884297520662\n"
     ]
    }
   ],
   "execution_count": 14
  },
  {
   "metadata": {
    "ExecuteTime": {
     "end_time": "2025-08-17T11:13:23.398277Z",
     "start_time": "2025-08-17T11:13:23.387444Z"
    }
   },
   "cell_type": "code",
   "source": [
    "# Display the coefficients of the features\n",
    "print(f'LASSO Coefficients: {lasso_model.coef_}')\n",
    "\n",
    "\n",
    "#In this example:\n",
    "\n",
    "    #The coefficient for StudyHours is 0, meaning it was removed from the model.\n",
    "\n",
    "    #The coefficient for PrevExamScore is nonzero, meaning it was retained in the model."
   ],
   "id": "63d39ae04a9a3d54",
   "outputs": [
    {
     "name": "stdout",
     "output_type": "stream",
     "text": [
      "LASSO Coefficients: [0.         0.02463636]\n"
     ]
    }
   ],
   "execution_count": 15
  },
  {
   "metadata": {
    "ExecuteTime": {
     "end_time": "2025-08-17T11:13:27.994269Z",
     "start_time": "2025-08-17T11:13:27.946663Z"
    }
   },
   "cell_type": "code",
   "source": [
    "# Try different alpha values and compare the results\n",
    "for alpha in [0.01, 0.05, 0.1, 0.5, 1.0]:\n",
    "    lasso_model = Lasso(alpha=alpha)\n",
    "    lasso_model.fit(X_train, y_train)\n",
    "    y_pred = lasso_model.predict(X_test)\n",
    "    r2 = r2_score(y_test, y_pred)\n",
    "    print(f'Alpha: {alpha}, R-squared score: {r2}, Coefficients: {lasso_model.coef_}')"
   ],
   "id": "c057e61139c469a9",
   "outputs": [
    {
     "name": "stdout",
     "output_type": "stream",
     "text": [
      "Alpha: 0.01, R-squared score: 0.9981491660809606, Coefficients: [0.08153909 0.01180619]\n",
      "Alpha: 0.05, R-squared score: 0.9999471074380165, Coefficients: [0.         0.02481818]\n",
      "Alpha: 0.1, R-squared score: 0.9997884297520662, Coefficients: [0.         0.02463636]\n",
      "Alpha: 0.5, R-squared score: 0.9947107438016529, Coefficients: [0.         0.02318182]\n",
      "Alpha: 1.0, R-squared score: 0.9788429752066116, Coefficients: [0.         0.02136364]\n"
     ]
    }
   ],
   "execution_count": 16
  }
 ],
 "metadata": {
  "kernelspec": {
   "display_name": "Python 3",
   "language": "python",
   "name": "python3"
  },
  "language_info": {
   "codemirror_mode": {
    "name": "ipython",
    "version": 2
   },
   "file_extension": ".py",
   "mimetype": "text/x-python",
   "name": "python",
   "nbconvert_exporter": "python",
   "pygments_lexer": "ipython2",
   "version": "2.7.6"
  }
 },
 "nbformat": 4,
 "nbformat_minor": 5
}
