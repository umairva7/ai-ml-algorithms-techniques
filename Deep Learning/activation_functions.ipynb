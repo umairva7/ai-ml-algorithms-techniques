{
 "nbformat": 4,
 "nbformat_minor": 0,
 "metadata": {
  "colab": {
   "provenance": []
  },
  "kernelspec": {
   "name": "python3",
   "display_name": "Python 3 (ipykernel)",
   "language": "python"
  },
  "language_info": {
   "name": "python"
  }
 },
 "cells": [
  {
   "cell_type": "markdown",
   "source": [
    "This notebook will compare a neural network that uses activation functions vs one that does not use activation functions"
   ],
   "metadata": {
    "id": "bk9frofMTyd1"
   }
  },
  {
   "cell_type": "code",
   "source": [
    "import numpy as np\n",
    "import torch\n",
    "import torch.nn as nn\n",
    "import torch.optim as optim\n",
    "import torch.nn.functional as F\n",
    "from sklearn.datasets import make_classification\n",
    "from sklearn.model_selection import train_test_split\n",
    "from sklearn.metrics import accuracy_score"
   ],
   "metadata": {
    "id": "qTdzDwH7TNq_",
    "ExecuteTime": {
     "end_time": "2025-08-23T08:15:25.646306Z",
     "start_time": "2025-08-23T08:15:22.858Z"
    }
   },
   "outputs": [],
   "execution_count": 1
  },
  {
   "cell_type": "code",
   "source": [
    "INPUT_DIM = 100 # Number of features"
   ],
   "metadata": {
    "id": "-adxKIgIXqPN",
    "ExecuteTime": {
     "end_time": "2025-08-23T08:15:30.945784Z",
     "start_time": "2025-08-23T08:15:30.922284Z"
    }
   },
   "outputs": [],
   "execution_count": 2
  },
  {
   "cell_type": "code",
   "source": [
    "# Generate synthetic data\n",
    "X, y = make_classification(\n",
    "    n_samples=5000,\n",
    "    n_features=INPUT_DIM,\n",
    "    n_informative=INPUT_DIM,\n",
    "    n_redundant=0,\n",
    "    random_state=7\n",
    ")"
   ],
   "metadata": {
    "id": "JbqXuV5bTTnN",
    "ExecuteTime": {
     "end_time": "2025-08-23T08:15:37.592697Z",
     "start_time": "2025-08-23T08:15:37.524078Z"
    }
   },
   "outputs": [],
   "execution_count": 3
  },
  {
   "cell_type": "code",
   "source": [
    "X.shape, y.shape"
   ],
   "metadata": {
    "colab": {
     "base_uri": "https://localhost:8080/"
    },
    "id": "CzCe5KauTUIi",
    "outputId": "6871f657-a46b-4efe-c2a3-4527165d1168",
    "ExecuteTime": {
     "end_time": "2025-08-23T08:15:41.787336Z",
     "start_time": "2025-08-23T08:15:41.755583Z"
    }
   },
   "outputs": [
    {
     "data": {
      "text/plain": [
       "((5000, 100), (5000,))"
      ]
     },
     "execution_count": 4,
     "metadata": {},
     "output_type": "execute_result"
    }
   ],
   "execution_count": 4
  },
  {
   "cell_type": "code",
   "source": [
    "# Split the data into training and testing sets\n",
    "X_train, X_test, y_train, y_test = train_test_split(X, y, test_size=0.2, random_state=42)"
   ],
   "metadata": {
    "id": "eUMc-SY6Tbso",
    "ExecuteTime": {
     "end_time": "2025-08-23T08:15:44.187090Z",
     "start_time": "2025-08-23T08:15:44.155484Z"
    }
   },
   "outputs": [],
   "execution_count": 5
  },
  {
   "cell_type": "code",
   "source": [
    "X_train.shape, X_test.shape"
   ],
   "metadata": {
    "colab": {
     "base_uri": "https://localhost:8080/"
    },
    "id": "xg6BWpkVT8VC",
    "outputId": "390fb3cc-a755-41ad-8e17-39fba1d40470",
    "ExecuteTime": {
     "end_time": "2025-08-23T08:15:46.598259Z",
     "start_time": "2025-08-23T08:15:46.580695Z"
    }
   },
   "outputs": [
    {
     "data": {
      "text/plain": [
       "((4000, 100), (1000, 100))"
      ]
     },
     "execution_count": 6,
     "metadata": {},
     "output_type": "execute_result"
    }
   ],
   "execution_count": 6
  },
  {
   "cell_type": "code",
   "source": [
    "# Convert data to PyTorch tensors\n",
    "X_train_tensor = torch.FloatTensor(X_train)\n",
    "y_train_tensor = torch.FloatTensor(y_train)\n",
    "X_test_tensor = torch.FloatTensor(X_test)\n",
    "y_test_tensor = torch.FloatTensor(y_test)"
   ],
   "metadata": {
    "id": "nYb-cPzrTd_u",
    "ExecuteTime": {
     "end_time": "2025-08-23T08:15:50.310096Z",
     "start_time": "2025-08-23T08:15:50.296578Z"
    }
   },
   "outputs": [],
   "execution_count": 7
  },
  {
   "cell_type": "code",
   "source": [
    "class NeuralNetwork(nn.Module):\n",
    "    def __init__(self, use_activation):\n",
    "        super(NeuralNetwork, self).__init__()\n",
    "        self.fc1 = nn.Linear(INPUT_DIM, 16)\n",
    "        self.fc2 = nn.Linear(16, 1)\n",
    "        self.use_activation = use_activation\n",
    "\n",
    "    def forward(self, x):\n",
    "        x = F.relu(self.fc1(x)) if self.use_activation else self.fc1(x)\n",
    "        x = torch.sigmoid(self.fc2(x))\n",
    "        return x"
   ],
   "metadata": {
    "id": "e2xR_W4kbhyo",
    "ExecuteTime": {
     "end_time": "2025-08-23T08:17:28.862602Z",
     "start_time": "2025-08-23T08:17:28.830798Z"
    }
   },
   "outputs": [],
   "execution_count": 8
  },
  {
   "cell_type": "code",
   "source": [
    "# Function to train and evaluate the model\n",
    "def train_and_evaluate(model):\n",
    "    criterion = nn.BCELoss()\n",
    "    optimizer = optim.Adam(model.parameters(), lr=0.001)\n",
    "\n",
    "    # Training loop\n",
    "    for epoch in range(100):\n",
    "        optimizer.zero_grad()\n",
    "        outputs = model(X_train_tensor)\n",
    "        loss = criterion(outputs, y_train_tensor.view(-1, 1))\n",
    "        if epoch % 5 == 0:\n",
    "          print(loss)\n",
    "        loss.backward()\n",
    "        optimizer.step()\n",
    "\n",
    "    # Evaluate the model on the test set\n",
    "    with torch.no_grad():\n",
    "        model.eval()\n",
    "        pred = model(X_test_tensor)\n",
    "        predictions = (pred > 0.5).float().numpy()\n",
    "        accuracy = accuracy_score(y_test_tensor, predictions)\n",
    "\n",
    "    return accuracy"
   ],
   "metadata": {
    "id": "QIBerxSGTiru",
    "ExecuteTime": {
     "end_time": "2025-08-23T08:17:36.116508Z",
     "start_time": "2025-08-23T08:17:36.098173Z"
    }
   },
   "outputs": [],
   "execution_count": 9
  },
  {
   "cell_type": "code",
   "source": [
    "# Create and train the model without activation functions\n",
    "model_without_activation = NeuralNetwork(use_activation=False)\n",
    "accuracy_without_activation = train_and_evaluate(model_without_activation)"
   ],
   "metadata": {
    "colab": {
     "base_uri": "https://localhost:8080/"
    },
    "id": "SfMpJeChZjfd",
    "outputId": "6c5828ed-1f18-45df-fec7-adb62edee509",
    "ExecuteTime": {
     "end_time": "2025-08-23T08:17:49.812937Z",
     "start_time": "2025-08-23T08:17:48.145317Z"
    }
   },
   "outputs": [
    {
     "name": "stdout",
     "output_type": "stream",
     "text": [
      "tensor(0.8872, grad_fn=<BinaryCrossEntropyBackward0>)\n",
      "tensor(0.6852, grad_fn=<BinaryCrossEntropyBackward0>)\n",
      "tensor(0.5549, grad_fn=<BinaryCrossEntropyBackward0>)\n",
      "tensor(0.4727, grad_fn=<BinaryCrossEntropyBackward0>)\n",
      "tensor(0.4197, grad_fn=<BinaryCrossEntropyBackward0>)\n",
      "tensor(0.3851, grad_fn=<BinaryCrossEntropyBackward0>)\n",
      "tensor(0.3622, grad_fn=<BinaryCrossEntropyBackward0>)\n",
      "tensor(0.3467, grad_fn=<BinaryCrossEntropyBackward0>)\n",
      "tensor(0.3356, grad_fn=<BinaryCrossEntropyBackward0>)\n",
      "tensor(0.3272, grad_fn=<BinaryCrossEntropyBackward0>)\n",
      "tensor(0.3207, grad_fn=<BinaryCrossEntropyBackward0>)\n",
      "tensor(0.3155, grad_fn=<BinaryCrossEntropyBackward0>)\n",
      "tensor(0.3113, grad_fn=<BinaryCrossEntropyBackward0>)\n",
      "tensor(0.3079, grad_fn=<BinaryCrossEntropyBackward0>)\n",
      "tensor(0.3052, grad_fn=<BinaryCrossEntropyBackward0>)\n",
      "tensor(0.3029, grad_fn=<BinaryCrossEntropyBackward0>)\n",
      "tensor(0.3011, grad_fn=<BinaryCrossEntropyBackward0>)\n",
      "tensor(0.2996, grad_fn=<BinaryCrossEntropyBackward0>)\n",
      "tensor(0.2984, grad_fn=<BinaryCrossEntropyBackward0>)\n",
      "tensor(0.2975, grad_fn=<BinaryCrossEntropyBackward0>)\n"
     ]
    }
   ],
   "execution_count": 10
  },
  {
   "cell_type": "code",
   "source": [
    "# Create and train the model with activation functions\n",
    "model_with_activation = NeuralNetwork(use_activation=True)\n",
    "accuracy_with_activation = train_and_evaluate(model_with_activation)"
   ],
   "metadata": {
    "colab": {
     "base_uri": "https://localhost:8080/"
    },
    "id": "ulxda_SVTuAL",
    "outputId": "314684c2-c32a-41ce-cba9-d54a7e8ef29a",
    "ExecuteTime": {
     "end_time": "2025-08-23T08:18:05.014278Z",
     "start_time": "2025-08-23T08:18:04.825095Z"
    }
   },
   "outputs": [
    {
     "name": "stdout",
     "output_type": "stream",
     "text": [
      "tensor(0.9008, grad_fn=<BinaryCrossEntropyBackward0>)\n",
      "tensor(0.7666, grad_fn=<BinaryCrossEntropyBackward0>)\n",
      "tensor(0.6616, grad_fn=<BinaryCrossEntropyBackward0>)\n",
      "tensor(0.5810, grad_fn=<BinaryCrossEntropyBackward0>)\n",
      "tensor(0.5182, grad_fn=<BinaryCrossEntropyBackward0>)\n",
      "tensor(0.4676, grad_fn=<BinaryCrossEntropyBackward0>)\n",
      "tensor(0.4257, grad_fn=<BinaryCrossEntropyBackward0>)\n",
      "tensor(0.3906, grad_fn=<BinaryCrossEntropyBackward0>)\n",
      "tensor(0.3609, grad_fn=<BinaryCrossEntropyBackward0>)\n",
      "tensor(0.3354, grad_fn=<BinaryCrossEntropyBackward0>)\n",
      "tensor(0.3133, grad_fn=<BinaryCrossEntropyBackward0>)\n",
      "tensor(0.2936, grad_fn=<BinaryCrossEntropyBackward0>)\n",
      "tensor(0.2760, grad_fn=<BinaryCrossEntropyBackward0>)\n",
      "tensor(0.2600, grad_fn=<BinaryCrossEntropyBackward0>)\n",
      "tensor(0.2455, grad_fn=<BinaryCrossEntropyBackward0>)\n",
      "tensor(0.2321, grad_fn=<BinaryCrossEntropyBackward0>)\n",
      "tensor(0.2200, grad_fn=<BinaryCrossEntropyBackward0>)\n",
      "tensor(0.2087, grad_fn=<BinaryCrossEntropyBackward0>)\n",
      "tensor(0.1983, grad_fn=<BinaryCrossEntropyBackward0>)\n",
      "tensor(0.1887, grad_fn=<BinaryCrossEntropyBackward0>)\n"
     ]
    }
   ],
   "execution_count": 11
  },
  {
   "cell_type": "code",
   "metadata": {
    "colab": {
     "base_uri": "https://localhost:8080/"
    },
    "id": "vP8g7LHvTMAZ",
    "outputId": "fdd3e867-90cf-42ef-fa65-445c4166fe37",
    "ExecuteTime": {
     "end_time": "2025-08-23T08:18:09.464041Z",
     "start_time": "2025-08-23T08:18:09.445349Z"
    }
   },
   "source": [
    "print(\"Accuracy without Activation Functions:\", accuracy_without_activation)\n",
    "print(\"Accuracy with Activation Functions:\", accuracy_with_activation)"
   ],
   "outputs": [
    {
     "name": "stdout",
     "output_type": "stream",
     "text": [
      "Accuracy without Activation Functions: 0.859\n",
      "Accuracy with Activation Functions: 0.901\n"
     ]
    }
   ],
   "execution_count": 12
  },
  {
   "cell_type": "markdown",
   "source": [
    "Note there may be situations where the adding of activation function decreases performance. This could be because adding activations causes overfitting. And maybe adding dropout could be useful."
   ],
   "metadata": {
    "id": "QopRic-6YvKb"
   }
  }
 ]
}
